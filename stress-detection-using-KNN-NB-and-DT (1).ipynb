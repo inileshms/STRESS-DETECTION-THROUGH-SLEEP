{
 "cells": [
  {
   "cell_type": "code",
   "execution_count": 10,
   "metadata": {
    "_cell_guid": "b1076dfc-b9ad-4769-8c92-a6c4dae69d19",
    "_uuid": "8f2839f25d086af736a60e9eeb907d3b93b6e0e5",
    "execution": {
     "iopub.execute_input": "2023-01-05T12:58:19.065880Z",
     "iopub.status.busy": "2023-01-05T12:58:19.064656Z",
     "iopub.status.idle": "2023-01-05T12:58:19.107179Z",
     "shell.execute_reply": "2023-01-05T12:58:19.106008Z",
     "shell.execute_reply.started": "2023-01-05T12:58:19.065763Z"
    }
   },
   "outputs": [],
   "source": [
    "import numpy as np \n",
    "import pandas as pd "
   ]
  },
  {
   "cell_type": "code",
   "execution_count": 11,
   "metadata": {
    "execution": {
     "iopub.execute_input": "2023-01-05T12:58:45.662971Z",
     "iopub.status.busy": "2023-01-05T12:58:45.661766Z",
     "iopub.status.idle": "2023-01-05T12:58:46.433079Z",
     "shell.execute_reply": "2023-01-05T12:58:46.431929Z",
     "shell.execute_reply.started": "2023-01-05T12:58:45.662896Z"
    }
   },
   "outputs": [],
   "source": [
    "import matplotlib.pyplot as plt\n",
    "import seaborn as sns\n",
    "from sklearn.preprocessing import minmax_scale\n",
    "from sklearn.model_selection import train_test_split\n",
    "from sklearn.model_selection import cross_val_score\n",
    "from sklearn.model_selection import StratifiedKFold\n",
    "from sklearn.metrics import classification_report\n",
    "from sklearn import metrics"
   ]
  },
  {
   "cell_type": "code",
   "execution_count": 12,
   "metadata": {
    "execution": {
     "iopub.execute_input": "2023-01-05T13:06:27.261424Z",
     "iopub.status.busy": "2023-01-05T13:06:27.260782Z",
     "iopub.status.idle": "2023-01-05T13:06:27.298629Z",
     "shell.execute_reply": "2023-01-05T13:06:27.296687Z",
     "shell.execute_reply.started": "2023-01-05T13:06:27.261377Z"
    }
   },
   "outputs": [
    {
     "data": {
      "text/html": [
       "<div>\n",
       "<style scoped>\n",
       "    .dataframe tbody tr th:only-of-type {\n",
       "        vertical-align: middle;\n",
       "    }\n",
       "\n",
       "    .dataframe tbody tr th {\n",
       "        vertical-align: top;\n",
       "    }\n",
       "\n",
       "    .dataframe thead th {\n",
       "        text-align: right;\n",
       "    }\n",
       "</style>\n",
       "<table border=\"1\" class=\"dataframe\">\n",
       "  <thead>\n",
       "    <tr style=\"text-align: right;\">\n",
       "      <th></th>\n",
       "      <th>snoring_rate</th>\n",
       "      <th>respiration_rate</th>\n",
       "      <th>body_temperature</th>\n",
       "      <th>limb_movement</th>\n",
       "      <th>blood_oxygen</th>\n",
       "      <th>eye_movement</th>\n",
       "      <th>sleeping_hours</th>\n",
       "      <th>heart_rate</th>\n",
       "      <th>stress_level</th>\n",
       "    </tr>\n",
       "  </thead>\n",
       "  <tbody>\n",
       "    <tr>\n",
       "      <th>0</th>\n",
       "      <td>93.80</td>\n",
       "      <td>25.680</td>\n",
       "      <td>91.840</td>\n",
       "      <td>16.600</td>\n",
       "      <td>89.840</td>\n",
       "      <td>99.60</td>\n",
       "      <td>1.840</td>\n",
       "      <td>74.20</td>\n",
       "      <td>3</td>\n",
       "    </tr>\n",
       "    <tr>\n",
       "      <th>1</th>\n",
       "      <td>91.64</td>\n",
       "      <td>25.104</td>\n",
       "      <td>91.552</td>\n",
       "      <td>15.880</td>\n",
       "      <td>89.552</td>\n",
       "      <td>98.88</td>\n",
       "      <td>1.552</td>\n",
       "      <td>72.76</td>\n",
       "      <td>3</td>\n",
       "    </tr>\n",
       "    <tr>\n",
       "      <th>2</th>\n",
       "      <td>60.00</td>\n",
       "      <td>20.000</td>\n",
       "      <td>96.000</td>\n",
       "      <td>10.000</td>\n",
       "      <td>95.000</td>\n",
       "      <td>85.00</td>\n",
       "      <td>7.000</td>\n",
       "      <td>60.00</td>\n",
       "      <td>1</td>\n",
       "    </tr>\n",
       "    <tr>\n",
       "      <th>3</th>\n",
       "      <td>85.76</td>\n",
       "      <td>23.536</td>\n",
       "      <td>90.768</td>\n",
       "      <td>13.920</td>\n",
       "      <td>88.768</td>\n",
       "      <td>96.92</td>\n",
       "      <td>0.768</td>\n",
       "      <td>68.84</td>\n",
       "      <td>3</td>\n",
       "    </tr>\n",
       "    <tr>\n",
       "      <th>4</th>\n",
       "      <td>48.12</td>\n",
       "      <td>17.248</td>\n",
       "      <td>97.872</td>\n",
       "      <td>6.496</td>\n",
       "      <td>96.248</td>\n",
       "      <td>72.48</td>\n",
       "      <td>8.248</td>\n",
       "      <td>53.12</td>\n",
       "      <td>0</td>\n",
       "    </tr>\n",
       "  </tbody>\n",
       "</table>\n",
       "</div>"
      ],
      "text/plain": [
       "   snoring_rate  respiration_rate  body_temperature  limb_movement  \\\n",
       "0         93.80            25.680            91.840         16.600   \n",
       "1         91.64            25.104            91.552         15.880   \n",
       "2         60.00            20.000            96.000         10.000   \n",
       "3         85.76            23.536            90.768         13.920   \n",
       "4         48.12            17.248            97.872          6.496   \n",
       "\n",
       "   blood_oxygen  eye_movement  sleeping_hours  heart_rate  stress_level  \n",
       "0        89.840         99.60           1.840       74.20             3  \n",
       "1        89.552         98.88           1.552       72.76             3  \n",
       "2        95.000         85.00           7.000       60.00             1  \n",
       "3        88.768         96.92           0.768       68.84             3  \n",
       "4        96.248         72.48           8.248       53.12             0  "
      ]
     },
     "execution_count": 12,
     "metadata": {},
     "output_type": "execute_result"
    }
   ],
   "source": [
    "df = pd.read_csv('sleep.csv')\n",
    "df.head()"
   ]
  },
  {
   "cell_type": "markdown",
   "metadata": {},
   "source": [
    "# Problem Definition\n"
   ]
  },
  {
   "cell_type": "markdown",
   "metadata": {},
   "source": [
    "The problem faced is that many people don’t know that they are have stress or not. There are many factors that determine whether a person have stress or not. Based on these problems, this study compared the KNN, Naive Bayes, and Decision Tree (DT) algorithms on human physiological data during sleep obtained from the Smart-Yoga Pillow (SaYoPillow) to detect a person's stress level."
   ]
  },
  {
   "cell_type": "markdown",
   "metadata": {},
   "source": [
    "# Analytic Approach"
   ]
  },
  {
   "cell_type": "markdown",
   "metadata": {},
   "source": [
    "The analytic approach used is predictive analytic using the main KNN method. Because the dataset used is a dataset that is well structured, has features that contain numeric values, and has no noise. Then in a study entitled \"Color Harmony Classification using Machine Learning Algorithms: KNN and SVM\" which compares the KNN and SVM algorithms where the KNN Algorithm gets an accuracy of 100%. Based on these things, it can be interpreted that the KNN algorithm is good at classifying. Then in this study the KNN algorithm will be compared with the Naive Bayes and Decision Tree algorithms."
   ]
  },
  {
   "cell_type": "markdown",
   "metadata": {},
   "source": [
    "# EDA"
   ]
  },
  {
   "cell_type": "code",
   "execution_count": 13,
   "metadata": {
    "execution": {
     "iopub.execute_input": "2023-01-05T13:06:48.789668Z",
     "iopub.status.busy": "2023-01-05T13:06:48.789241Z",
     "iopub.status.idle": "2023-01-05T13:06:48.827177Z",
     "shell.execute_reply": "2023-01-05T13:06:48.822524Z",
     "shell.execute_reply.started": "2023-01-05T13:06:48.789627Z"
    }
   },
   "outputs": [
    {
     "name": "stdout",
     "output_type": "stream",
     "text": [
      "<class 'pandas.core.frame.DataFrame'>\n",
      "RangeIndex: 630 entries, 0 to 629\n",
      "Data columns (total 9 columns):\n",
      " #   Column            Non-Null Count  Dtype  \n",
      "---  ------            --------------  -----  \n",
      " 0   snoring_rate      630 non-null    float64\n",
      " 1   respiration_rate  630 non-null    float64\n",
      " 2   body_temperature  630 non-null    float64\n",
      " 3   limb_movement     630 non-null    float64\n",
      " 4   blood_oxygen      630 non-null    float64\n",
      " 5   eye_movement      630 non-null    float64\n",
      " 6   sleeping_hours    630 non-null    float64\n",
      " 7   heart_rate        630 non-null    float64\n",
      " 8   stress_level      630 non-null    int64  \n",
      "dtypes: float64(8), int64(1)\n",
      "memory usage: 44.4 KB\n"
     ]
    }
   ],
   "source": [
    "# See data type\n",
    "df.info()"
   ]
  },
  {
   "cell_type": "code",
   "execution_count": 14,
   "metadata": {
    "execution": {
     "iopub.execute_input": "2023-01-05T13:07:12.030176Z",
     "iopub.status.busy": "2023-01-05T13:07:12.029710Z",
     "iopub.status.idle": "2023-01-05T13:07:12.075678Z",
     "shell.execute_reply": "2023-01-05T13:07:12.074387Z",
     "shell.execute_reply.started": "2023-01-05T13:07:12.030138Z"
    }
   },
   "outputs": [
    {
     "data": {
      "text/html": [
       "<div>\n",
       "<style scoped>\n",
       "    .dataframe tbody tr th:only-of-type {\n",
       "        vertical-align: middle;\n",
       "    }\n",
       "\n",
       "    .dataframe tbody tr th {\n",
       "        vertical-align: top;\n",
       "    }\n",
       "\n",
       "    .dataframe thead th {\n",
       "        text-align: right;\n",
       "    }\n",
       "</style>\n",
       "<table border=\"1\" class=\"dataframe\">\n",
       "  <thead>\n",
       "    <tr style=\"text-align: right;\">\n",
       "      <th></th>\n",
       "      <th>snoring_rate</th>\n",
       "      <th>respiration_rate</th>\n",
       "      <th>body_temperature</th>\n",
       "      <th>limb_movement</th>\n",
       "      <th>blood_oxygen</th>\n",
       "      <th>eye_movement</th>\n",
       "      <th>sleeping_hours</th>\n",
       "      <th>heart_rate</th>\n",
       "      <th>stress_level</th>\n",
       "    </tr>\n",
       "  </thead>\n",
       "  <tbody>\n",
       "    <tr>\n",
       "      <th>count</th>\n",
       "      <td>630.000000</td>\n",
       "      <td>630.000000</td>\n",
       "      <td>630.00000</td>\n",
       "      <td>630.000000</td>\n",
       "      <td>630.000000</td>\n",
       "      <td>630.000000</td>\n",
       "      <td>630.000000</td>\n",
       "      <td>630.000000</td>\n",
       "      <td>630.000000</td>\n",
       "    </tr>\n",
       "    <tr>\n",
       "      <th>mean</th>\n",
       "      <td>71.600000</td>\n",
       "      <td>21.800000</td>\n",
       "      <td>92.80000</td>\n",
       "      <td>11.700000</td>\n",
       "      <td>90.900000</td>\n",
       "      <td>88.500000</td>\n",
       "      <td>3.700000</td>\n",
       "      <td>64.500000</td>\n",
       "      <td>2.000000</td>\n",
       "    </tr>\n",
       "    <tr>\n",
       "      <th>std</th>\n",
       "      <td>19.372833</td>\n",
       "      <td>3.966111</td>\n",
       "      <td>3.52969</td>\n",
       "      <td>4.299629</td>\n",
       "      <td>3.902483</td>\n",
       "      <td>11.893747</td>\n",
       "      <td>3.054572</td>\n",
       "      <td>9.915277</td>\n",
       "      <td>1.415337</td>\n",
       "    </tr>\n",
       "    <tr>\n",
       "      <th>min</th>\n",
       "      <td>45.000000</td>\n",
       "      <td>16.000000</td>\n",
       "      <td>85.00000</td>\n",
       "      <td>4.000000</td>\n",
       "      <td>82.000000</td>\n",
       "      <td>60.000000</td>\n",
       "      <td>0.000000</td>\n",
       "      <td>50.000000</td>\n",
       "      <td>0.000000</td>\n",
       "    </tr>\n",
       "    <tr>\n",
       "      <th>25%</th>\n",
       "      <td>52.500000</td>\n",
       "      <td>18.500000</td>\n",
       "      <td>90.50000</td>\n",
       "      <td>8.500000</td>\n",
       "      <td>88.500000</td>\n",
       "      <td>81.250000</td>\n",
       "      <td>0.500000</td>\n",
       "      <td>56.250000</td>\n",
       "      <td>1.000000</td>\n",
       "    </tr>\n",
       "    <tr>\n",
       "      <th>50%</th>\n",
       "      <td>70.000000</td>\n",
       "      <td>21.000000</td>\n",
       "      <td>93.00000</td>\n",
       "      <td>11.000000</td>\n",
       "      <td>91.000000</td>\n",
       "      <td>90.000000</td>\n",
       "      <td>3.500000</td>\n",
       "      <td>62.500000</td>\n",
       "      <td>2.000000</td>\n",
       "    </tr>\n",
       "    <tr>\n",
       "      <th>75%</th>\n",
       "      <td>91.250000</td>\n",
       "      <td>25.000000</td>\n",
       "      <td>95.50000</td>\n",
       "      <td>15.750000</td>\n",
       "      <td>94.250000</td>\n",
       "      <td>98.750000</td>\n",
       "      <td>6.500000</td>\n",
       "      <td>72.500000</td>\n",
       "      <td>3.000000</td>\n",
       "    </tr>\n",
       "    <tr>\n",
       "      <th>max</th>\n",
       "      <td>100.000000</td>\n",
       "      <td>30.000000</td>\n",
       "      <td>99.00000</td>\n",
       "      <td>19.000000</td>\n",
       "      <td>97.000000</td>\n",
       "      <td>105.000000</td>\n",
       "      <td>9.000000</td>\n",
       "      <td>85.000000</td>\n",
       "      <td>4.000000</td>\n",
       "    </tr>\n",
       "  </tbody>\n",
       "</table>\n",
       "</div>"
      ],
      "text/plain": [
       "       snoring_rate  respiration_rate  body_temperature  limb_movement  \\\n",
       "count    630.000000        630.000000         630.00000     630.000000   \n",
       "mean      71.600000         21.800000          92.80000      11.700000   \n",
       "std       19.372833          3.966111           3.52969       4.299629   \n",
       "min       45.000000         16.000000          85.00000       4.000000   \n",
       "25%       52.500000         18.500000          90.50000       8.500000   \n",
       "50%       70.000000         21.000000          93.00000      11.000000   \n",
       "75%       91.250000         25.000000          95.50000      15.750000   \n",
       "max      100.000000         30.000000          99.00000      19.000000   \n",
       "\n",
       "       blood_oxygen  eye_movement  sleeping_hours  heart_rate  stress_level  \n",
       "count    630.000000    630.000000      630.000000  630.000000    630.000000  \n",
       "mean      90.900000     88.500000        3.700000   64.500000      2.000000  \n",
       "std        3.902483     11.893747        3.054572    9.915277      1.415337  \n",
       "min       82.000000     60.000000        0.000000   50.000000      0.000000  \n",
       "25%       88.500000     81.250000        0.500000   56.250000      1.000000  \n",
       "50%       91.000000     90.000000        3.500000   62.500000      2.000000  \n",
       "75%       94.250000     98.750000        6.500000   72.500000      3.000000  \n",
       "max       97.000000    105.000000        9.000000   85.000000      4.000000  "
      ]
     },
     "execution_count": 14,
     "metadata": {},
     "output_type": "execute_result"
    }
   ],
   "source": [
    "# See describe of data\n",
    "df.describe()"
   ]
  },
  {
   "cell_type": "code",
   "execution_count": 15,
   "metadata": {
    "execution": {
     "iopub.execute_input": "2023-01-05T13:07:53.649509Z",
     "iopub.status.busy": "2023-01-05T13:07:53.649100Z",
     "iopub.status.idle": "2023-01-05T13:07:53.656493Z",
     "shell.execute_reply": "2023-01-05T13:07:53.655570Z",
     "shell.execute_reply.started": "2023-01-05T13:07:53.649474Z"
    }
   },
   "outputs": [
    {
     "data": {
      "text/plain": [
       "(630, 9)"
      ]
     },
     "execution_count": 15,
     "metadata": {},
     "output_type": "execute_result"
    }
   ],
   "source": [
    "# Check the amount of data that the data totals 630 rows.\n",
    "df.shape"
   ]
  },
  {
   "cell_type": "code",
   "execution_count": 16,
   "metadata": {
    "execution": {
     "iopub.execute_input": "2023-01-05T13:08:12.483854Z",
     "iopub.status.busy": "2023-01-05T13:08:12.483431Z",
     "iopub.status.idle": "2023-01-05T13:08:12.496258Z",
     "shell.execute_reply": "2023-01-05T13:08:12.495119Z",
     "shell.execute_reply.started": "2023-01-05T13:08:12.483820Z"
    }
   },
   "outputs": [
    {
     "data": {
      "text/plain": [
       "snoring_rate        0\n",
       "respiration_rate    0\n",
       "body_temperature    0\n",
       "limb_movement       0\n",
       "blood_oxygen        0\n",
       "eye_movement        0\n",
       "sleeping_hours      0\n",
       "heart_rate          0\n",
       "stress_level        0\n",
       "dtype: int64"
      ]
     },
     "execution_count": 16,
     "metadata": {},
     "output_type": "execute_result"
    }
   ],
   "source": [
    "# Checking null value\n",
    "df.isna().sum()"
   ]
  },
  {
   "cell_type": "code",
   "execution_count": 17,
   "metadata": {
    "execution": {
     "iopub.execute_input": "2023-01-05T13:08:52.100352Z",
     "iopub.status.busy": "2023-01-05T13:08:52.099917Z",
     "iopub.status.idle": "2023-01-05T13:08:53.359919Z",
     "shell.execute_reply": "2023-01-05T13:08:53.358678Z",
     "shell.execute_reply.started": "2023-01-05T13:08:52.100315Z"
    }
   },
   "outputs": [
    {
     "data": {
      "image/png": "[encoded data removed]",
      "text/plain": [
       "<Figure size 2500x1500 with 9 Axes>"
      ]
     },
     "metadata": {},
     "output_type": "display_data"
    }
   ],
   "source": [
    "df.columns = ['snoring_rate', 'respiration_rate', 'temperature', 'limb_move', 'blood_oxygen', 'eye_move', 'sleep_hour', 'heart_rate', 'stress_level']\n",
    "color = '#eab889'\n",
    "data = df.copy()\n",
    "data.drop('stress_level', axis = 1, inplace = True)\n",
    "data.hist(bins=15,figsize=(25,15),color=color)\n",
    "plt.rcParams['font.size'] = 18\n",
    "plt.show()"
   ]
  },
  {
   "cell_type": "markdown",
   "metadata": {},
   "source": [
    "Check the distribution of data from each column. It can be stated that the distribution of data from the features snoring_rate, respiration_rate, eye_move, sleep_hour, and heart_rate has an abnormal distribution. The distribution of data from the temperature, limb_move, and blood_oxygen features has a normal distribution."
   ]
  },
  {
   "cell_type": "code",
   "execution_count": 18,
   "metadata": {
    "execution": {
     "iopub.execute_input": "2023-01-05T13:09:11.348411Z",
     "iopub.status.busy": "2023-01-05T13:09:11.347931Z",
     "iopub.status.idle": "2023-01-05T13:09:13.546718Z",
     "shell.execute_reply": "2023-01-05T13:09:13.545501Z",
     "shell.execute_reply.started": "2023-01-05T13:09:11.348358Z"
    }
   },
   "outputs": [
    {
     "ename": "TypeError",
     "evalue": "pointplot() got an unexpected keyword argument 'alpha'",
     "output_type": "error",
     "traceback": [
      "\u001b[1;31m---------------------------------------------------------------------------\u001b[0m",
      "\u001b[1;31mTypeError\u001b[0m                                 Traceback (most recent call last)",
      "Cell \u001b[1;32mIn[18], line 6\u001b[0m\n\u001b[0;32m      4\u001b[0m \u001b[38;5;28;01mfor\u001b[39;00m i \u001b[38;5;129;01min\u001b[39;00m \u001b[38;5;28mrange\u001b[39m(\u001b[38;5;28mlen\u001b[39m(df\u001b[38;5;241m.\u001b[39mcolumns[:\u001b[38;5;241m-\u001b[39m\u001b[38;5;241m1\u001b[39m])):\n\u001b[0;32m      5\u001b[0m   fig\u001b[38;5;241m.\u001b[39madd_subplot(rows, columns, (i\u001b[38;5;241m+\u001b[39m\u001b[38;5;241m1\u001b[39m))\n\u001b[1;32m----> 6\u001b[0m   img \u001b[38;5;241m=\u001b[39m \u001b[43msns\u001b[49m\u001b[38;5;241;43m.\u001b[39;49m\u001b[43mpointplot\u001b[49m\u001b[43m(\u001b[49m\u001b[43mx\u001b[49m\u001b[38;5;241;43m=\u001b[39;49m\u001b[38;5;124;43m'\u001b[39;49m\u001b[38;5;124;43mstress_level\u001b[39;49m\u001b[38;5;124;43m'\u001b[39;49m\u001b[43m,\u001b[49m\u001b[43my\u001b[49m\u001b[38;5;241;43m=\u001b[39;49m\u001b[43mdf\u001b[49m\u001b[38;5;241;43m.\u001b[39;49m\u001b[43mcolumns\u001b[49m\u001b[43m[\u001b[49m\u001b[43mi\u001b[49m\u001b[43m]\u001b[49m\u001b[43m,\u001b[49m\u001b[43mdata\u001b[49m\u001b[38;5;241;43m=\u001b[39;49m\u001b[43mdf\u001b[49m\u001b[43m,\u001b[49m\u001b[43mcolor\u001b[49m\u001b[38;5;241;43m=\u001b[39;49m\u001b[38;5;124;43m'\u001b[39;49m\u001b[38;5;124;43mlime\u001b[39;49m\u001b[38;5;124;43m'\u001b[39;49m\u001b[43m,\u001b[49m\u001b[43malpha\u001b[49m\u001b[38;5;241;43m=\u001b[39;49m\u001b[38;5;241;43m0.8\u001b[39;49m\u001b[43m)\u001b[49m\n\u001b[0;32m      7\u001b[0m plt\u001b[38;5;241m.\u001b[39mshow()\n",
      "\u001b[1;31mTypeError\u001b[0m: pointplot() got an unexpected keyword argument 'alpha'"
     ]
    },
    {
     "data": {
      "image/png": "[encoded data removed]",
      "text/plain": [
       "<Figure size 4000x1500 with 1 Axes>"
      ]
     },
     "metadata": {},
     "output_type": "display_data"
    }
   ],
   "source": [
    "fig = plt.figure(figsize=(40, 15))\n",
    "rows = 2\n",
    "columns = 4\n",
    "for i in range(len(df.columns[:-1])):\n",
    "  fig.add_subplot(rows, columns, (i+1))\n",
    "  img = sns.pointplot(x='stress_level',y=df.columns[i],data=df,color='lime',alpha=0.8)\n",
    "plt.show()"
   ]
  },
  {
   "cell_type": "markdown",
   "metadata": {},
   "source": [
    "Checking feature relationship with stress level. In the snoring_rate, respiration_rate, limb_movement, eye_move, and heart_rate features, the higher the value, the higher the stress level. In the temperature, blood_oxygen, and sleep_hour features, the lower the value, the higher the stress_level value."
   ]
  },
  {
   "cell_type": "code",
   "execution_count": null,
   "metadata": {
    "execution": {
     "iopub.execute_input": "2023-01-05T13:09:41.656770Z",
     "iopub.status.busy": "2023-01-05T13:09:41.655984Z",
     "iopub.status.idle": "2023-01-05T13:09:42.462995Z",
     "shell.execute_reply": "2023-01-05T13:09:42.461645Z",
     "shell.execute_reply.started": "2023-01-05T13:09:41.656714Z"
    }
   },
   "outputs": [],
   "source": [
    "plt.figure(figsize = (17,10))\n",
    "sns.heatmap(df.corr(), annot=True, square=True, fmt='.1f')\n",
    "plt.title('Correlation', fontsize = 20)\n",
    "plt.show()"
   ]
  },
  {
   "cell_type": "markdown",
   "metadata": {},
   "source": [
    "Check the correlation between features. it can be seen that all features have a very strong correlation, where if the correlation value is equal to 1, then the correlation is positive. If the correlation value is equal to -1, then the correlation is negative."
   ]
  },
  {
   "cell_type": "code",
   "execution_count": null,
   "metadata": {
    "execution": {
     "iopub.execute_input": "2023-01-05T13:22:44.220728Z",
     "iopub.status.busy": "2023-01-05T13:22:44.220284Z",
     "iopub.status.idle": "2023-01-05T13:22:45.444788Z",
     "shell.execute_reply": "2023-01-05T13:22:45.443709Z",
     "shell.execute_reply.started": "2023-01-05T13:22:44.220693Z"
    }
   },
   "outputs": [],
   "source": [
    "data.plot(kind='box', subplots=True, layout=(2,14),figsize=(14,14), sharex=False, sharey=False)\n",
    "plt.subplots_adjust(left=0.1,\n",
    "                    bottom=0.1, \n",
    "                    right=2, \n",
    "                    top=0.9, \n",
    "                    wspace=0.4, \n",
    "                    hspace=0.4)\n",
    "plt.show()"
   ]
  },
  {
   "cell_type": "markdown",
   "metadata": {},
   "source": [
    "Check whether there are outlier data in each column in the data. It can be seen that there are no outliers in the data."
   ]
  },
  {
   "cell_type": "code",
   "execution_count": 19,
   "metadata": {
    "execution": {
     "iopub.execute_input": "2023-01-05T13:23:19.989677Z",
     "iopub.status.busy": "2023-01-05T13:23:19.989234Z",
     "iopub.status.idle": "2023-01-05T13:23:20.181755Z",
     "shell.execute_reply": "2023-01-05T13:23:20.180658Z",
     "shell.execute_reply.started": "2023-01-05T13:23:19.989642Z"
    }
   },
   "outputs": [
    {
     "data": {
      "image/png": "[encoded data removed]",
      "text/plain": [
       "<Figure size 640x480 with 1 Axes>"
      ]
     },
     "metadata": {},
     "output_type": "display_data"
    }
   ],
   "source": [
    "sns.countplot(x=\"stress_level\", data =df)\n",
    "plt.show()"
   ]
  },
  {
   "cell_type": "markdown",
   "metadata": {},
   "source": [
    "See the target comparison or stress level in the data. It can be stated that the targets in the data are balanced so no sampling is necessary."
   ]
  },
  {
   "cell_type": "markdown",
   "metadata": {},
   "source": [
    "# Data Preparation"
   ]
  },
  {
   "cell_type": "markdown",
   "metadata": {},
   "source": [
    "Because the data looks very good, then just do normalization."
   ]
  },
  {
   "cell_type": "code",
   "execution_count": 20,
   "metadata": {
    "execution": {
     "iopub.execute_input": "2023-01-05T13:25:17.663214Z",
     "iopub.status.busy": "2023-01-05T13:25:17.662786Z",
     "iopub.status.idle": "2023-01-05T13:25:17.669895Z",
     "shell.execute_reply": "2023-01-05T13:25:17.668987Z",
     "shell.execute_reply.started": "2023-01-05T13:25:17.663179Z"
    }
   },
   "outputs": [],
   "source": [
    "x = df.copy();\n",
    "x.drop('stress_level', axis = 1, inplace = True)\n",
    "y = df['stress_level']"
   ]
  },
  {
   "cell_type": "markdown",
   "metadata": {},
   "source": [
    "Separating the output or target from the data, then the features of the data are entered in the x variable and the output/target of the data is entered in the y variable."
   ]
  },
  {
   "cell_type": "code",
   "execution_count": 21,
   "metadata": {
    "execution": {
     "iopub.execute_input": "2023-01-05T13:25:45.794427Z",
     "iopub.status.busy": "2023-01-05T13:25:45.793946Z",
     "iopub.status.idle": "2023-01-05T13:25:45.803646Z",
     "shell.execute_reply": "2023-01-05T13:25:45.802275Z",
     "shell.execute_reply.started": "2023-01-05T13:25:45.794390Z"
    }
   },
   "outputs": [],
   "source": [
    "x = minmax_scale(x)"
   ]
  },
  {
   "cell_type": "markdown",
   "metadata": {},
   "source": [
    "Normalize data features using minmax."
   ]
  },
  {
   "cell_type": "code",
   "execution_count": 22,
   "metadata": {
    "execution": {
     "iopub.execute_input": "2023-01-05T13:26:26.083534Z",
     "iopub.status.busy": "2023-01-05T13:26:26.083118Z",
     "iopub.status.idle": "2023-01-05T13:26:26.093660Z",
     "shell.execute_reply": "2023-01-05T13:26:26.092335Z",
     "shell.execute_reply.started": "2023-01-05T13:26:26.083501Z"
    }
   },
   "outputs": [],
   "source": [
    "X_train, X_test, y_train, y_test = train_test_split(x, y, test_size=.2,random_state =123)"
   ]
  },
  {
   "cell_type": "markdown",
   "metadata": {},
   "source": [
    "Separating training data and testing data with a ratio of 80%:20%."
   ]
  },
  {
   "cell_type": "code",
   "execution_count": 23,
   "metadata": {
    "execution": {
     "iopub.execute_input": "2023-01-05T13:28:00.027423Z",
     "iopub.status.busy": "2023-01-05T13:28:00.026927Z",
     "iopub.status.idle": "2023-01-05T13:28:00.050469Z",
     "shell.execute_reply": "2023-01-05T13:28:00.048852Z",
     "shell.execute_reply.started": "2023-01-05T13:28:00.027385Z"
    }
   },
   "outputs": [
    {
     "data": {
      "text/html": [
       "<div>\n",
       "<style scoped>\n",
       "    .dataframe tbody tr th:only-of-type {\n",
       "        vertical-align: middle;\n",
       "    }\n",
       "\n",
       "    .dataframe tbody tr th {\n",
       "        vertical-align: top;\n",
       "    }\n",
       "\n",
       "    .dataframe thead th {\n",
       "        text-align: right;\n",
       "    }\n",
       "</style>\n",
       "<table border=\"1\" class=\"dataframe\">\n",
       "  <thead>\n",
       "    <tr style=\"text-align: right;\">\n",
       "      <th></th>\n",
       "      <th>snoring_rate</th>\n",
       "      <th>respiration_rate</th>\n",
       "      <th>temperature</th>\n",
       "      <th>limb_move</th>\n",
       "      <th>blood_oxygen</th>\n",
       "      <th>eye_move</th>\n",
       "      <th>sleep_hour</th>\n",
       "      <th>heart_rate</th>\n",
       "      <th>stress_level</th>\n",
       "    </tr>\n",
       "  </thead>\n",
       "  <tbody>\n",
       "    <tr>\n",
       "      <th>0</th>\n",
       "      <td>0.887273</td>\n",
       "      <td>0.691429</td>\n",
       "      <td>0.488571</td>\n",
       "      <td>0.840000</td>\n",
       "      <td>0.522667</td>\n",
       "      <td>0.880000</td>\n",
       "      <td>0.204444</td>\n",
       "      <td>0.691429</td>\n",
       "      <td>3</td>\n",
       "    </tr>\n",
       "    <tr>\n",
       "      <th>1</th>\n",
       "      <td>0.848000</td>\n",
       "      <td>0.650286</td>\n",
       "      <td>0.468000</td>\n",
       "      <td>0.792000</td>\n",
       "      <td>0.503467</td>\n",
       "      <td>0.864000</td>\n",
       "      <td>0.172444</td>\n",
       "      <td>0.650286</td>\n",
       "      <td>3</td>\n",
       "    </tr>\n",
       "    <tr>\n",
       "      <th>2</th>\n",
       "      <td>0.272727</td>\n",
       "      <td>0.285714</td>\n",
       "      <td>0.785714</td>\n",
       "      <td>0.400000</td>\n",
       "      <td>0.866667</td>\n",
       "      <td>0.555556</td>\n",
       "      <td>0.777778</td>\n",
       "      <td>0.285714</td>\n",
       "      <td>1</td>\n",
       "    </tr>\n",
       "    <tr>\n",
       "      <th>3</th>\n",
       "      <td>0.741091</td>\n",
       "      <td>0.538286</td>\n",
       "      <td>0.412000</td>\n",
       "      <td>0.661333</td>\n",
       "      <td>0.451200</td>\n",
       "      <td>0.820444</td>\n",
       "      <td>0.085333</td>\n",
       "      <td>0.538286</td>\n",
       "      <td>3</td>\n",
       "    </tr>\n",
       "    <tr>\n",
       "      <th>4</th>\n",
       "      <td>0.056727</td>\n",
       "      <td>0.089143</td>\n",
       "      <td>0.919429</td>\n",
       "      <td>0.166400</td>\n",
       "      <td>0.949867</td>\n",
       "      <td>0.277333</td>\n",
       "      <td>0.916444</td>\n",
       "      <td>0.089143</td>\n",
       "      <td>0</td>\n",
       "    </tr>\n",
       "  </tbody>\n",
       "</table>\n",
       "</div>"
      ],
      "text/plain": [
       "   snoring_rate  respiration_rate  temperature  limb_move  blood_oxygen  \\\n",
       "0      0.887273          0.691429     0.488571   0.840000      0.522667   \n",
       "1      0.848000          0.650286     0.468000   0.792000      0.503467   \n",
       "2      0.272727          0.285714     0.785714   0.400000      0.866667   \n",
       "3      0.741091          0.538286     0.412000   0.661333      0.451200   \n",
       "4      0.056727          0.089143     0.919429   0.166400      0.949867   \n",
       "\n",
       "   eye_move  sleep_hour  heart_rate  stress_level  \n",
       "0  0.880000    0.204444    0.691429             3  \n",
       "1  0.864000    0.172444    0.650286             3  \n",
       "2  0.555556    0.777778    0.285714             1  \n",
       "3  0.820444    0.085333    0.538286             3  \n",
       "4  0.277333    0.916444    0.089143             0  "
      ]
     },
     "execution_count": 23,
     "metadata": {},
     "output_type": "execute_result"
    }
   ],
   "source": [
    "# Showing data after pre processed\n",
    "data_preprocessed = pd.DataFrame(x, columns = ['snoring_rate', 'respiration_rate', 'temperature', 'limb_move', 'blood_oxygen', 'eye_move', 'sleep_hour', 'heart_rate'])\n",
    "data_preprocessed['stress_level'] = y\n",
    "data_preprocessed.head()"
   ]
  },
  {
   "cell_type": "markdown",
   "metadata": {},
   "source": [
    "# Modeling"
   ]
  },
  {
   "cell_type": "code",
   "execution_count": 24,
   "metadata": {
    "execution": {
     "iopub.execute_input": "2023-01-05T13:29:00.596877Z",
     "iopub.status.busy": "2023-01-05T13:29:00.596453Z",
     "iopub.status.idle": "2023-01-05T13:29:00.782114Z",
     "shell.execute_reply": "2023-01-05T13:29:00.780866Z",
     "shell.execute_reply.started": "2023-01-05T13:29:00.596842Z"
    }
   },
   "outputs": [],
   "source": [
    "from sklearn.neighbors import KNeighborsClassifier\n",
    "from sklearn.tree import DecisionTreeClassifier\n",
    "from sklearn.naive_bayes import GaussianNB"
   ]
  },
  {
   "cell_type": "code",
   "execution_count": 25,
   "metadata": {
    "execution": {
     "iopub.execute_input": "2023-01-05T13:31:44.078843Z",
     "iopub.status.busy": "2023-01-05T13:31:44.078391Z",
     "iopub.status.idle": "2023-01-05T13:31:44.284113Z",
     "shell.execute_reply": "2023-01-05T13:31:44.282855Z",
     "shell.execute_reply.started": "2023-01-05T13:31:44.078807Z"
    }
   },
   "outputs": [
    {
     "name": "stdout",
     "output_type": "stream",
     "text": [
      "K: 5 and max_depth: 20\n",
      "KNN: 1.000000 (0.000000)\n",
      "NB: 1.000000 (0.000000)\n",
      "DT: 0.980198 (0.014002)\n",
      "\n",
      "K: 10 and max_depth: 40\n",
      "KNN: 1.000000 (0.000000)\n",
      "NB: 1.000000 (0.000000)\n",
      "DT: 0.980198 (0.014002)\n",
      "\n",
      "K: 15 and max_depth: 60\n",
      "KNN: 1.000000 (0.000000)\n",
      "NB: 1.000000 (0.000000)\n",
      "DT: 0.980198 (0.014002)\n",
      "\n"
     ]
    }
   ],
   "source": [
    "# Doing Cross Validation and find hyperparameter\n",
    "from pandas.core.common import random_state\n",
    "k = [5,10,15]\n",
    "max_depth = [20, 40, 60]\n",
    "for i in range(3):\n",
    "    models = []\n",
    "    models.append(('KNN', KNeighborsClassifier(n_neighbors=k[i])))\n",
    "    models.append(('NB', GaussianNB()))\n",
    "    models.append(('DT', DecisionTreeClassifier(max_depth=max_depth[i], random_state=101)))\n",
    "    results = []\n",
    "    names = []\n",
    "    print(\"K:\",k[i], \"and max_depth:\", max_depth[i])\n",
    "    for name, model in models:\n",
    "        kfold = StratifiedKFold(n_splits=5, random_state=1, shuffle=True)\n",
    "        cv_results = cross_val_score(model, X_train, y_train, cv=kfold, scoring='accuracy')\n",
    "        results.append(cv_results)\n",
    "        names.append(name)\n",
    "        print('%s: %f (%f)' % (name, cv_results.mean(), cv_results.std()))\n",
    "    print(\"\")"
   ]
  },
  {
   "cell_type": "markdown",
   "metadata": {},
   "source": [
    "Hyperparameter search for KNN and DT models. In KNN testing of the hyperparameter values of K 5, 10, and 15 produced the same accuracy values. Therefore the chosen value of K is 5.\n",
    "\n",
    "In DT, the hyperparameter test with max_depth values of 20, 40, and 60 produces the same accuracy value. Therefore, the max_depth value is chosen to be 40."
   ]
  },
  {
   "cell_type": "code",
   "execution_count": 26,
   "metadata": {
    "execution": {
     "iopub.execute_input": "2023-01-05T13:32:27.069935Z",
     "iopub.status.busy": "2023-01-05T13:32:27.069421Z",
     "iopub.status.idle": "2023-01-05T13:32:27.084753Z",
     "shell.execute_reply": "2023-01-05T13:32:27.083059Z",
     "shell.execute_reply.started": "2023-01-05T13:32:27.069894Z"
    }
   },
   "outputs": [],
   "source": [
    "# Create K-NN Model\n",
    "model_KNN = KNeighborsClassifier(n_neighbors=5)\n",
    "model_KNN.fit(X_train, y_train)\n",
    "predict_KNN = model_KNN.predict(X_test)"
   ]
  },
  {
   "cell_type": "code",
   "execution_count": 27,
   "metadata": {
    "execution": {
     "iopub.execute_input": "2023-01-05T13:32:44.811751Z",
     "iopub.status.busy": "2023-01-05T13:32:44.811295Z",
     "iopub.status.idle": "2023-01-05T13:32:44.821029Z",
     "shell.execute_reply": "2023-01-05T13:32:44.819453Z",
     "shell.execute_reply.started": "2023-01-05T13:32:44.811701Z"
    }
   },
   "outputs": [],
   "source": [
    "# Create NB Model\n",
    "model_NB = GaussianNB()\n",
    "model_NB.fit(X_train, y_train)\n",
    "predict_NB = model_NB.predict(X_test)"
   ]
  },
  {
   "cell_type": "code",
   "execution_count": 28,
   "metadata": {
    "execution": {
     "iopub.execute_input": "2023-01-05T13:33:35.408508Z",
     "iopub.status.busy": "2023-01-05T13:33:35.408084Z",
     "iopub.status.idle": "2023-01-05T13:33:35.419029Z",
     "shell.execute_reply": "2023-01-05T13:33:35.417883Z",
     "shell.execute_reply.started": "2023-01-05T13:33:35.408475Z"
    }
   },
   "outputs": [],
   "source": [
    "# Create DT Model\n",
    "model_DT = DecisionTreeClassifier(max_depth=40,random_state=101)\n",
    "model_DT.fit(X_train, y_train)\n",
    "predict_DT = model_DT.predict(X_test)"
   ]
  },
  {
   "cell_type": "markdown",
   "metadata": {},
   "source": [
    "# Evaluation"
   ]
  },
  {
   "cell_type": "markdown",
   "metadata": {},
   "source": [
    "## K-NN"
   ]
  },
  {
   "cell_type": "code",
   "execution_count": 29,
   "metadata": {
    "execution": {
     "iopub.execute_input": "2023-01-05T13:35:18.680955Z",
     "iopub.status.busy": "2023-01-05T13:35:18.680519Z",
     "iopub.status.idle": "2023-01-05T13:35:18.989687Z",
     "shell.execute_reply": "2023-01-05T13:35:18.988212Z",
     "shell.execute_reply.started": "2023-01-05T13:35:18.680921Z"
    }
   },
   "outputs": [
    {
     "data": {
      "image/png": "[encoded data removed]",
      "text/plain": [
       "<Figure size 640x480 with 2 Axes>"
      ]
     },
     "metadata": {},
     "output_type": "display_data"
    }
   ],
   "source": [
    "confusion_matrix = metrics.confusion_matrix(y_test, predict_KNN)\n",
    "\n",
    "cm_display = metrics.ConfusionMatrixDisplay(confusion_matrix = confusion_matrix, display_labels = [0,1,2,3,4])\n",
    "\n",
    "cm_display.plot()\n",
    "plt.show()"
   ]
  },
  {
   "cell_type": "code",
   "execution_count": 30,
   "metadata": {
    "execution": {
     "iopub.execute_input": "2023-01-05T13:35:26.615294Z",
     "iopub.status.busy": "2023-01-05T13:35:26.614897Z",
     "iopub.status.idle": "2023-01-05T13:35:26.629688Z",
     "shell.execute_reply": "2023-01-05T13:35:26.627951Z",
     "shell.execute_reply.started": "2023-01-05T13:35:26.615264Z"
    }
   },
   "outputs": [
    {
     "name": "stdout",
     "output_type": "stream",
     "text": [
      "              precision    recall  f1-score   support\n",
      "\n",
      "           0       1.00      1.00      1.00        25\n",
      "           1       1.00      1.00      1.00        29\n",
      "           2       1.00      1.00      1.00        21\n",
      "           3       1.00      1.00      1.00        24\n",
      "           4       1.00      1.00      1.00        27\n",
      "\n",
      "    accuracy                           1.00       126\n",
      "   macro avg       1.00      1.00      1.00       126\n",
      "weighted avg       1.00      1.00      1.00       126\n",
      "\n"
     ]
    }
   ],
   "source": [
    "print(classification_report(y_test, predict_KNN))"
   ]
  },
  {
   "cell_type": "markdown",
   "metadata": {},
   "source": [
    "## Naive Bayes"
   ]
  },
  {
   "cell_type": "code",
   "execution_count": 31,
   "metadata": {
    "execution": {
     "iopub.execute_input": "2023-01-05T13:35:43.261215Z",
     "iopub.status.busy": "2023-01-05T13:35:43.260650Z",
     "iopub.status.idle": "2023-01-05T13:35:44.079964Z",
     "shell.execute_reply": "2023-01-05T13:35:44.078696Z",
     "shell.execute_reply.started": "2023-01-05T13:35:43.261169Z"
    }
   },
   "outputs": [
    {
     "data": {
      "image/png": "[encoded data removed]",
      "text/plain": [
       "<Figure size 640x480 with 2 Axes>"
      ]
     },
     "metadata": {},
     "output_type": "display_data"
    }
   ],
   "source": [
    "confusion_matrix = metrics.confusion_matrix(y_test, predict_NB)\n",
    "\n",
    "cm_display = metrics.ConfusionMatrixDisplay(confusion_matrix = confusion_matrix, display_labels = [0,1,2,3,4])\n",
    "\n",
    "cm_display.plot()\n",
    "plt.show()"
   ]
  },
  {
   "cell_type": "code",
   "execution_count": 32,
   "metadata": {
    "execution": {
     "iopub.execute_input": "2023-01-05T13:35:51.026932Z",
     "iopub.status.busy": "2023-01-05T13:35:51.026515Z",
     "iopub.status.idle": "2023-01-05T13:35:51.038685Z",
     "shell.execute_reply": "2023-01-05T13:35:51.037386Z",
     "shell.execute_reply.started": "2023-01-05T13:35:51.026899Z"
    }
   },
   "outputs": [
    {
     "name": "stdout",
     "output_type": "stream",
     "text": [
      "              precision    recall  f1-score   support\n",
      "\n",
      "           0       1.00      1.00      1.00        25\n",
      "           1       1.00      1.00      1.00        29\n",
      "           2       1.00      1.00      1.00        21\n",
      "           3       1.00      1.00      1.00        24\n",
      "           4       1.00      1.00      1.00        27\n",
      "\n",
      "    accuracy                           1.00       126\n",
      "   macro avg       1.00      1.00      1.00       126\n",
      "weighted avg       1.00      1.00      1.00       126\n",
      "\n"
     ]
    }
   ],
   "source": [
    "print(classification_report(y_test, predict_NB))"
   ]
  },
  {
   "cell_type": "markdown",
   "metadata": {},
   "source": [
    "## Decision Tree"
   ]
  },
  {
   "cell_type": "code",
   "execution_count": 33,
   "metadata": {
    "execution": {
     "iopub.execute_input": "2023-01-05T13:36:04.992149Z",
     "iopub.status.busy": "2023-01-05T13:36:04.991762Z",
     "iopub.status.idle": "2023-01-05T13:36:05.216279Z",
     "shell.execute_reply": "2023-01-05T13:36:05.214986Z",
     "shell.execute_reply.started": "2023-01-05T13:36:04.992117Z"
    }
   },
   "outputs": [
    {
     "data": {
      "image/png": "[encoded data removed]",
      "text/plain": [
       "<Figure size 640x480 with 2 Axes>"
      ]
     },
     "metadata": {},
     "output_type": "display_data"
    }
   ],
   "source": [
    "confusion_matrix = metrics.confusion_matrix(y_test, predict_DT)\n",
    "\n",
    "cm_display = metrics.ConfusionMatrixDisplay(confusion_matrix = confusion_matrix, display_labels = [0,1,2,3,4])\n",
    "\n",
    "cm_display.plot()\n",
    "plt.show()"
   ]
  },
  {
   "cell_type": "code",
   "execution_count": 34,
   "metadata": {
    "execution": {
     "iopub.execute_input": "2023-01-05T13:36:13.123999Z",
     "iopub.status.busy": "2023-01-05T13:36:13.123560Z",
     "iopub.status.idle": "2023-01-05T13:36:13.136490Z",
     "shell.execute_reply": "2023-01-05T13:36:13.135265Z",
     "shell.execute_reply.started": "2023-01-05T13:36:13.123965Z"
    }
   },
   "outputs": [
    {
     "name": "stdout",
     "output_type": "stream",
     "text": [
      "              precision    recall  f1-score   support\n",
      "\n",
      "           0       0.96      1.00      0.98        25\n",
      "           1       1.00      0.97      0.98        29\n",
      "           2       1.00      1.00      1.00        21\n",
      "           3       0.96      1.00      0.98        24\n",
      "           4       1.00      0.96      0.98        27\n",
      "\n",
      "    accuracy                           0.98       126\n",
      "   macro avg       0.98      0.99      0.98       126\n",
      "weighted avg       0.98      0.98      0.98       126\n",
      "\n"
     ]
    }
   ],
   "source": [
    "print(classification_report(y_test, predict_DT))"
   ]
  },
  {
   "cell_type": "markdown",
   "metadata": {},
   "source": [
    "# Conclusion"
   ]
  },
  {
   "cell_type": "markdown",
   "metadata": {},
   "source": [
    "For all the models that have been made it is very good because it gets high accuracy. Where the K-NN and Naive Bayes models get an accuracy of 100%, while the Decision Tree model gets an accuracy of 98%. To improve the model that has been made, when searching for hyperparameters for the range, multiply it again so that you get the optimal hyperparameter."
   ]
  },
  {
   "cell_type": "code",
   "execution_count": null,
   "metadata": {},
   "outputs": [],
   "source": []
  },
  {
   "cell_type": "code",
   "execution_count": null,
   "metadata": {},
   "outputs": [],
   "source": []
  },
  {
   "cell_type": "code",
   "execution_count": null,
   "metadata": {},
   "outputs": [],
   "source": []
  }
 ],
 "metadata": {
  "kernelspec": {
   "display_name": "Python 3 (ipykernel)",
   "language": "python",
   "name": "python3"
  },
  "language_info": {
   "codemirror_mode": {
    "name": "ipython",
    "version": 3
   },
   "file_extension": ".py",
   "mimetype": "text/x-python",
   "name": "python",
   "nbconvert_exporter": "python",
   "pygments_lexer": "ipython3",
   "version": "3.10.9"
  }
 },
 "nbformat": 4,
 "nbformat_minor": 4
}
